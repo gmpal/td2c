{
 "cells": [
  {
   "cell_type": "markdown",
   "metadata": {},
   "source": [
    "Create the 'predictions' for LOPO D2C on the same files as the other methods"
   ]
  },
  {
   "cell_type": "code",
   "execution_count": 1,
   "metadata": {},
   "outputs": [
    {
     "name": "stderr",
     "output_type": "stream",
     "text": [
      "/home/gpaldino/miniconda3/envs/d2cpy/lib/python3.8/site-packages/tqdm/auto.py:21: TqdmWarning: IProgress not found. Please update jupyter and ipywidgets. See https://ipywidgets.readthedocs.io/en/stable/user_install.html\n",
      "  from .autonotebook import tqdm as notebook_tqdm\n"
     ]
    }
   ],
   "source": [
    "import pickle \n",
    "import os\n",
    "import pandas as pd\n",
    "from tqdm import tqdm\n",
    "import numpy as np\n",
    "\n",
    "from sklearn.metrics import accuracy_score, f1_score, precision_score, recall_score, balanced_accuracy_score\n",
    "\n",
    "from d2c.benchmark import D2CWrapper\n",
    "\n",
    "from d2c.descriptors.loader import DataLoader\n",
    "\n",
    "from sklearn.ensemble import RandomForestClassifier\n",
    "\n"
   ]
  },
  {
   "cell_type": "code",
   "execution_count": 4,
   "metadata": {},
   "outputs": [],
   "source": [
    "dfs = []\n",
    "root = './descriptors/'\n",
    "for file in sorted(os.listdir(root)):\n",
    "    if file.endswith('.pkl'):\n",
    "        df = pd.read_pickle(root + file)\n",
    "        dfs.append(df)\n",
    "\n",
    "descriptors = pd.concat(dfs, axis=0).reset_index(drop=True)"
   ]
  },
  {
   "cell_type": "code",
   "execution_count": 3,
   "metadata": {},
   "outputs": [],
   "source": [
    "root = './data/'\n",
    "\n",
    "# if any exception write it on disk \n",
    "\n",
    "to_dos = []\n",
    "for file in sorted(os.listdir(root)):\n",
    "    if file.endswith('.pkl'):\n",
    "        gen_process_number = int(file.split('_')[0][1:])\n",
    "        n_variables = int(file.split('_')[1][1:])\n",
    "        max_neighborhood_size = int(file.split('_')[2][2:])\n",
    "        noise_std = float(file.split('_')[3][1:-4])\n",
    "        \n",
    "        if noise_std != 0.005:\n",
    "            continue\n",
    "\n",
    "        if max_neighborhood_size != 8:\n",
    "            continue\n",
    "\n",
    "        to_dos.append(file)\n",
    "\n",
    "# sort to_dos by number of variables\n",
    "to_dos_5_variables = [file for file in to_dos if int(file.split('_')[1][1:]) == 5]\n",
    "to_dos_10_variables = [file for file in to_dos if int(file.split('_')[1][1:]) == 10]\n",
    "to_dos_25_variables = [file for file in to_dos if int(file.split('_')[1][1:]) == 25]\n",
    "to_dos_50_variables = [file for file in to_dos if int(file.split('_')[1][1:]) == 50]"
   ]
  },
  {
   "cell_type": "code",
   "execution_count": 6,
   "metadata": {},
   "outputs": [
    {
     "name": "stderr",
     "output_type": "stream",
     "text": [
      "  0%|          | 0/35 [00:00<?, ?it/s]"
     ]
    },
    {
     "name": "stderr",
     "output_type": "stream",
     "text": [
      "100%|██████████| 35/35 [40:34<00:00, 69.57s/it]\n"
     ]
    }
   ],
   "source": [
    "from imblearn.ensemble import BalancedRandomForestClassifier\n",
    "# silence SettingWithCopyWarning\n",
    "import warnings\n",
    "warnings.filterwarnings('ignore')\n",
    "\n",
    "root = './data/'\n",
    "destination_root = './d2c_subset_benchmark/'\n",
    "maxlags = 5\n",
    "for file in tqdm(to_dos):\n",
    "    if file.endswith('.pkl'):\n",
    "        gen_process_number = int(file.split('_')[0][1:])\n",
    "        n_variables = int(file.split('_')[1][1:])\n",
    "        max_neighborhood_size = int(file.split('_')[2][2:])\n",
    "        noise_std = float(file.split('_')[3][1:-4])\n",
    "        \n",
    "        causal_dfs = []\n",
    "        true_causal_dfs = []\n",
    "\n",
    "        training_data = descriptors.loc[descriptors['process_id'] != gen_process_number]\n",
    "        X_train = training_data.drop(columns=['process_id', 'graph_id', 'n_variables', 'max_neighborhood_size','noise_std', 'edge_source', 'edge_dest', 'is_causal'])\n",
    "        y_train = training_data['is_causal']\n",
    "        \n",
    "        model = BalancedRandomForestClassifier(n_estimators=110, random_state=0, n_jobs=55, replacement=True, sampling_strategy='all')\n",
    "\n",
    "        model.fit(X_train, y_train)\n",
    "        \n",
    "        for graph_id in range(20):\n",
    "        \n",
    "            testing_data = descriptors.loc[(descriptors['process_id'] == gen_process_number) & (descriptors['graph_id'] == graph_id) & (descriptors['n_variables'] == n_variables) & (descriptors['max_neighborhood_size'] == max_neighborhood_size) & (descriptors['noise_std'] == noise_std)]\n",
    "\n",
    "            from_ = testing_data['edge_source']\n",
    "            to = testing_data['edge_dest']\n",
    "            X_test = testing_data.drop(columns=['process_id', 'graph_id', 'n_variables', 'max_neighborhood_size','noise_std', 'edge_source', 'edge_dest', 'is_causal'])\n",
    "\n",
    "            y_test = testing_data['is_causal']\n",
    "\n",
    "            y_pred_proba = model.predict_proba(X_test)[:,1]\n",
    "            y_pred = y_pred_proba > 0.5\n",
    "\n",
    "            X_test['probability'] = y_pred_proba\n",
    "            X_test['is_causal'] = y_pred\n",
    "            X_test['edge_source'] = from_\n",
    "            X_test['edge_dest'] = to\n",
    "            results = X_test[['edge_source','edge_dest','probability','is_causal']]\n",
    "\n",
    "            results.rename(columns={'edge_source':'from', 'edge_dest':'to'}, inplace=True)\n",
    "\n",
    "            results['p_value'] = None\n",
    "            results['effect'] = None\n",
    "\n",
    "            causal_df = results[['from','to','effect','p_value','probability','is_causal']]\n",
    "\n",
    "            true_causal_df = causal_df.drop(columns=['is_causal'])\n",
    "            true_causal_df['is_causal'] = y_test\n",
    "\n",
    "            causal_dfs.append(causal_df)\n",
    "            true_causal_dfs.append(true_causal_df)\n",
    "\n",
    "        filename = f'{destination_root}/{destination}/P{gen_process_number}_N{n_variables}_Nj{max_neighborhood_size}_n{noise_std}.pkl'\n",
    "\n",
    "        with open(filename, 'wb') as f:\n",
    "                pickle.dump((\n",
    "                            causal_dfs, \n",
    "                            true_causal_dfs), f)     "
   ]
  }
 ],
 "metadata": {
  "kernelspec": {
   "display_name": "d2cpy",
   "language": "python",
   "name": "python3"
  },
  "language_info": {
   "codemirror_mode": {
    "name": "ipython",
    "version": 3
   },
   "file_extension": ".py",
   "mimetype": "text/x-python",
   "name": "python",
   "nbconvert_exporter": "python",
   "pygments_lexer": "ipython3",
   "version": "3.8.18"
  }
 },
 "nbformat": 4,
 "nbformat_minor": 2
}
